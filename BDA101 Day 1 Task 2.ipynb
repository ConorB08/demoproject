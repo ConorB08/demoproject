{
 "cells": [
  {
   "cell_type": "markdown",
   "id": "1d8e1683",
   "metadata": {},
   "source": [
    "# Language Semantics\n",
    "\n",
    "This notebook will help you practise some of the basic semantics of a Python program. The goal is to help you with the building blocks of the language before we can progress and apply to solve real problems."
   ]
  },
  {
   "cell_type": "markdown",
   "id": "4f2f354c",
   "metadata": {},
   "source": [
    "## Comments\n",
    "\n",
    "How do you indicate a comment? Write some appropriate comment for the code below."
   ]
  },
  {
   "cell_type": "code",
   "execution_count": null,
   "id": "7d17f61f",
   "metadata": {},
   "outputs": [],
   "source": [
    "#calculating circumferance of a circle\n",
    "\n",
    "radius = 5\n",
    "circumference = 2 * 3.1415 * radius\n",
    "print(circumference)"
   ]
  },
  {
   "cell_type": "markdown",
   "id": "2c0a1955",
   "metadata": {},
   "source": [
    "## Types\n",
    "\n",
    "Print the type of the variable name usint **print()** and **type()**."
   ]
  },
  {
   "cell_type": "code",
   "execution_count": 2,
   "id": "9513e798",
   "metadata": {},
   "outputs": [
    {
     "name": "stdout",
     "output_type": "stream",
     "text": [
      "<class 'str'>\n"
     ]
    }
   ],
   "source": [
    "name = \"Lucas\"\n",
    "print(type(name))"
   ]
  },
  {
   "cell_type": "markdown",
   "id": "73cb433f",
   "metadata": {},
   "source": [
    "What type results when you divide an integer by a float? Print the type of the result of the operation."
   ]
  },
  {
   "cell_type": "code",
   "execution_count": 3,
   "id": "213f5f4a",
   "metadata": {},
   "outputs": [
    {
     "name": "stdout",
     "output_type": "stream",
     "text": [
      "<class 'float'>\n"
     ]
    }
   ],
   "source": [
    "print(type(7 / 7.0))\n"
   ]
  },
  {
   "cell_type": "markdown",
   "id": "61bb838a",
   "metadata": {},
   "source": [
    "What type results when you divide a float by an integer? Print the type of the result of the operation."
   ]
  },
  {
   "cell_type": "code",
   "execution_count": 4,
   "id": "de595064",
   "metadata": {
    "scrolled": true
   },
   "outputs": [
    {
     "name": "stdout",
     "output_type": "stream",
     "text": [
      "<class 'float'>\n"
     ]
    }
   ],
   "source": [
    "print(type(7.0 / 7))"
   ]
  },
  {
   "cell_type": "markdown",
   "id": "8820cbe3",
   "metadata": {},
   "source": [
    "What type results when you divide two integers?"
   ]
  },
  {
   "cell_type": "code",
   "execution_count": 5,
   "id": "9c0d2d5a",
   "metadata": {},
   "outputs": [
    {
     "name": "stdout",
     "output_type": "stream",
     "text": [
      "<class 'float'>\n"
     ]
    }
   ],
   "source": [
    "people = 5\n",
    "slices = 8\n",
    "slices_per_person = people / slices\n",
    "print(type(slices_per_person))"
   ]
  },
  {
   "cell_type": "markdown",
   "id": "c539c6db",
   "metadata": {},
   "source": [
    "You can use **int()**, **bool()**, **float()** and **str()** functions to convert to other types. You can find comprehensive information on the built-in datatypes in the [Python docs](https://docs.python.org/3/library/stdtypes.html). Print the values and types of the variables below and see how it works.\n"
   ]
  },
  {
   "cell_type": "code",
   "execution_count": 6,
   "id": "5ea9263b",
   "metadata": {},
   "outputs": [
    {
     "name": "stdout",
     "output_type": "stream",
     "text": [
      "<class 'int'>\n",
      "<class 'bool'>\n",
      "<class 'float'>\n",
      "<class 'str'>\n"
     ]
    }
   ],
   "source": [
    "age = int(5.5)\n",
    "print(type(age))\n",
    "\n",
    "coin_heads = bool(0)\n",
    "print(type(coin_heads))\n",
    "\n",
    "cash = float(5)\n",
    "print(type(cash))\n",
    "\n",
    "student_number = str(123456)\n",
    "print(type(student_number))"
   ]
  },
  {
   "cell_type": "markdown",
   "id": "99fb1c03",
   "metadata": {},
   "source": [
    "Conversions should work if there's a sensible way to do that. For example, some strings cannot be converted to int, while some can."
   ]
  },
  {
   "cell_type": "code",
   "execution_count": 7,
   "id": "6156a580",
   "metadata": {
    "scrolled": true
   },
   "outputs": [
    {
     "ename": "ValueError",
     "evalue": "invalid literal for int() with base 10: 'S123AE'",
     "output_type": "error",
     "traceback": [
      "\u001b[1;31m---------------------------------------------------------------------------\u001b[0m",
      "\u001b[1;31mValueError\u001b[0m                                Traceback (most recent call last)",
      "Input \u001b[1;32mIn [7]\u001b[0m, in \u001b[0;36m<cell line: 1>\u001b[1;34m()\u001b[0m\n\u001b[1;32m----> 1\u001b[0m student_number \u001b[38;5;241m=\u001b[39m \u001b[38;5;28;43mint\u001b[39;49m\u001b[43m(\u001b[49m\u001b[38;5;124;43m\"\u001b[39;49m\u001b[38;5;124;43mS123AE\u001b[39;49m\u001b[38;5;124;43m\"\u001b[39;49m\u001b[43m)\u001b[49m\n",
      "\u001b[1;31mValueError\u001b[0m: invalid literal for int() with base 10: 'S123AE'"
     ]
    }
   ],
   "source": [
    "student_number = int(\"S123AE\")"
   ]
  },
  {
   "cell_type": "code",
   "execution_count": 8,
   "id": "5003ee67",
   "metadata": {},
   "outputs": [
    {
     "name": "stdout",
     "output_type": "stream",
     "text": [
      "123456\n"
     ]
    }
   ],
   "source": [
    "student_number = int(\"123456\")\n",
    "print(student_number)"
   ]
  },
  {
   "cell_type": "markdown",
   "id": "07f4db84",
   "metadata": {},
   "source": [
    "## Indentation\n",
    "Indentation is mandatory in Python. See if you can fix the cells below by using correct indentation. If you are having difficulties, check more about indentation [here](https://www.w3schools.com/python/gloss_python_indentation.asp)."
   ]
  },
  {
   "cell_type": "code",
   "execution_count": 9,
   "id": "9488b56f",
   "metadata": {},
   "outputs": [
    {
     "name": "stdout",
     "output_type": "stream",
     "text": [
      "x is not greater than 10\n"
     ]
    }
   ],
   "source": [
    "x = 5\n",
    "if x > 10:\n",
    "    print(\"x is greater than 10\")\n",
    "else:\n",
    "    print(\"x is not greater than 10\")"
   ]
  },
  {
   "cell_type": "code",
   "execution_count": 11,
   "id": "c76e619c",
   "metadata": {},
   "outputs": [],
   "source": [
    "def max(x, y, z):\n",
    "    if x > y and x > z:\n",
    "        return x\n",
    "    elif y > z:\n",
    "        return y\n",
    "    else:\n",
    "        return z"
   ]
  },
  {
   "cell_type": "markdown",
   "id": "8a6b8cad",
   "metadata": {},
   "source": [
    "## Operators\n",
    "An *operator* is a symbol used in conjunction with values to perform an action and usually produces a new value.\n",
    "\n",
    "An *operand* is a value used in conjunction with an operator. There are usually two or more operands to one operator.\n",
    "\n",
    "In Python, what an operator does generally depends on the types of the operands."
   ]
  },
  {
   "cell_type": "code",
   "execution_count": 12,
   "id": "e2bd028c",
   "metadata": {},
   "outputs": [
    {
     "name": "stdout",
     "output_type": "stream",
     "text": [
      "2\n",
      "11\n"
     ]
    }
   ],
   "source": [
    "arithmetic_add = 1 + 1\n",
    "string_add = \"1\" + \"1\"\n",
    "print(arithmetic_add)\n",
    "print(string_add)"
   ]
  },
  {
   "cell_type": "markdown",
   "id": "36fbd3e2",
   "metadata": {},
   "source": [
    "There is a large number of operators in Python, some of which are listed below.\n",
    "\n",
    "1. a + b\n",
    "2. a – b\n",
    "3. a * b\n",
    "4. a / b\n",
    "5. a // b \n",
    "6. a ** b\n",
    "7. a & b\n",
    "8. a | b\n",
    "9. a ^ b\n",
    "\n",
    "Try to play with these operators using variables *a* and *b* below. Change the variable's value and operator to see the effect on the results."
   ]
  },
  {
   "cell_type": "code",
   "execution_count": 15,
   "id": "2a1d27ab",
   "metadata": {},
   "outputs": [
    {
     "name": "stdout",
     "output_type": "stream",
     "text": [
      "0\n",
      "0\n",
      "390625\n"
     ]
    }
   ],
   "source": [
    "a = 5\n",
    "b = 8\n",
    "print(a // b)\n",
    "\n",
    "print(a & b)\n",
    "\n",
    "print(a**b)"
   ]
  },
  {
   "cell_type": "markdown",
   "id": "8eebda75",
   "metadata": {},
   "source": [
    "You can see more about operators [here](https://www.w3schools.com/python/python_operators.asp). You won't remember all of them now, but hopefully as you practise more, you will be able to use them all."
   ]
  }
 ],
 "metadata": {
  "kernelspec": {
   "display_name": "Python 3 (ipykernel)",
   "language": "python",
   "name": "python3"
  },
  "language_info": {
   "codemirror_mode": {
    "name": "ipython",
    "version": 3
   },
   "file_extension": ".py",
   "mimetype": "text/x-python",
   "name": "python",
   "nbconvert_exporter": "python",
   "pygments_lexer": "ipython3",
   "version": "3.9.12"
  }
 },
 "nbformat": 4,
 "nbformat_minor": 5
}
